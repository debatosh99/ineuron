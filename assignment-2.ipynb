{
 "cells": [
  {
   "cell_type": "raw",
   "metadata": {},
   "source": [
    "Task 1:"
   ]
  },
  {
   "cell_type": "markdown",
   "metadata": {},
   "source": [
    "1.1 \n",
    "Write a Python Program to implement your own myreduce() function which works exactly like Python's built-in function reduce() "
   ]
  },
  {
   "cell_type": "code",
   "execution_count": 15,
   "metadata": {},
   "outputs": [
    {
     "name": "stdout",
     "output_type": "stream",
     "text": [
      "720000000\n",
      "210\n"
     ]
    }
   ],
   "source": [
    "def myreduce(func, iterable):\n",
    "    val = iterable[0]\n",
    "    for i in iterable[1:]:\n",
    "        val = func(val, i)\n",
    "    return val\n",
    "\n",
    "\n",
    "\n",
    "#Testing the myreduce function\n",
    "alist = [10,20,30,40,50,60]\n",
    "\n",
    "result1 = myreduce(lambda x,y: x*y, alist)\n",
    "print(result1)\n",
    "\n",
    "result2 = myreduce(lambda x,y: x+y, alist)\n",
    "print(result2)"
   ]
  },
  {
   "cell_type": "markdown",
   "metadata": {},
   "source": [
    "1.2 \n",
    "Write a Python program to implement your own myfilter() function which works exactly like Python's built-in function filter() "
   ]
  },
  {
   "cell_type": "code",
   "execution_count": 29,
   "metadata": {},
   "outputs": [
    {
     "name": "stdout",
     "output_type": "stream",
     "text": [
      "[22, 44, 66]\n"
     ]
    }
   ],
   "source": [
    "def myfilter(func, iterable):\n",
    "    for i in iterable:\n",
    "        if func(i):\n",
    "            yield i\n",
    "  \n",
    "\n",
    "#Testing the myfilter function\n",
    "alist = [11,22,33,44,55,66]\n",
    "\n",
    "resultlist = list(myfilter(lambda x: (x%2==0), alist))\n",
    "print(resultlist)    "
   ]
  },
  {
   "cell_type": "markdown",
   "metadata": {},
   "source": [
    "2. \n",
    "Implement List comprehensions to produce the following lists. \n",
    " \n",
    "Write List comprehensions to produce the following Lists \n",
    " \n",
    " \n",
    "['x', 'xx', 'xxx', 'xxxx', 'y', 'yy', 'yyy', 'yyyy', 'z', 'zz', 'zzz', 'zzzz'] \n",
    " \n",
    "['x', 'y', 'z', 'xx', 'yy', 'zz', 'xx', 'yy', 'zz', 'xxxx', 'yyyy', 'zzzz'] \n",
    " \n",
    "[[2], [3], [4], [3], [4], [5], [4], [5], [6]] \n",
    " \n",
    "[[2, 3, 4, 5], [3, 4, 5, 6], [4, 5, 6, 7], [5, 6, 7, 8]] \n",
    " \n",
    "[(1, 1), (2, 1), (3, 1), (1, 2), (2, 2), (3, 2), (1, 3), (2, 3), (3, 3)] "
   ]
  },
  {
   "cell_type": "code",
   "execution_count": 45,
   "metadata": {},
   "outputs": [
    {
     "name": "stdout",
     "output_type": "stream",
     "text": [
      "['x', 'xx', 'xxx', 'xxxx', 'y', 'yy', 'yyy', 'yyyy', 'z', 'zz', 'zzz', 'zzzz']\n",
      "['x', 'y', 'z', 'xx', 'yy', 'zz', 'xxx', 'yyy', 'zzz', 'xxxx', 'yyyy', 'zzzz']\n",
      "[[2], [3], [4], [3], [4], [5], [4], [5], [6]]\n",
      "[[2, 3, 4, 5], [3, 4, 5, 6], [4, 5, 6, 7], [5, 6, 7, 8]]\n",
      "[(1, 1), (2, 1), (3, 1), (1, 2), (2, 2), (3, 2), (1, 3), (2, 3), (3, 3)]\n"
     ]
    }
   ],
   "source": [
    "print([j*i for j in 'xyz' for i in range(1,5)])\n",
    "\n",
    "print([i*j for j in range(1,5) for i in 'xyz' ])\n",
    "\n",
    "print([[i+j] for i in range(1,4) for j in [1,2,3]])\n",
    "\n",
    "print([ [(1+i),(2+i),(3+i),(4+i)]  for i in range(1,5)])\n",
    "\n",
    "print([(j,i) for i in range(1,4) for j in range(1,4)])"
   ]
  },
  {
   "cell_type": "markdown",
   "metadata": {},
   "source": [
    "3.\n",
    "Implement a function longestWord() that takes a list of words and returns the longest one. "
   ]
  },
  {
   "cell_type": "code",
   "execution_count": 9,
   "metadata": {},
   "outputs": [
    {
     "name": "stdout",
     "output_type": "stream",
     "text": [
      "How many words you want to enter ?5\n",
      "Enter word :India\n",
      "Enter word :China\n",
      "Enter word :hi\n",
      "Enter word :you\n",
      "Enter word :Hello\n",
      "The longest length word/words: India China Hello\n"
     ]
    }
   ],
   "source": [
    "def longestWord(wordlist):\n",
    "    maxlength = 0\n",
    "    maxlengthwordlist = []\n",
    "    for word in wordlist:\n",
    "        if maxlength <= len(word):\n",
    "            maxlength = len(word)\n",
    "            maxlengthwordlist.append(word)\n",
    "    return maxlengthwordlist\n",
    "\n",
    "\n",
    "\n",
    "wordlist = []\n",
    "numwords = int(input('How many words you want to enter ?'))\n",
    "counter = 1\n",
    "while(counter<=numwords):\n",
    "    word = input('Enter word :')\n",
    "    wordlist.append(word)\n",
    "    counter+=1\n",
    "    \n",
    "print('The longest length word/words: {}'.format( ' '.join(longestWord(wordlist))  ))\n",
    "     \n",
    "        "
   ]
  },
  {
   "cell_type": "markdown",
   "metadata": {},
   "source": [
    "Task 2: "
   ]
  },
  {
   "cell_type": "markdown",
   "metadata": {},
   "source": [
    "1.1\n",
    "Write a Python Program(with class concepts) to find the area of the triangle using the below formula. \n",
    " \n",
    "area = (s*(s-a)*(s-b)*(s-c)) ** 0.5 \n",
    " \n",
    "Function to take the length of the sides of triangle from user should be defined in the parent class and function to calculate the area should be defined in subclass. "
   ]
  },
  {
   "cell_type": "code",
   "execution_count": 13,
   "metadata": {},
   "outputs": [
    {
     "name": "stdout",
     "output_type": "stream",
     "text": [
      "72.61843774138907\n"
     ]
    }
   ],
   "source": [
    "class parent:\n",
    "    def __init__(self,a,b,c):\n",
    "        self.a = a\n",
    "        self.b = b\n",
    "        self.c = c\n",
    "        \n",
    "class subclass(parent):\n",
    "    def area(self):\n",
    "        self.s = (self.a + self.b + self.c)/2\n",
    "        area = (self.s*(self.s-self.a)*(self.s-self.b)*(self.s-self.c))**0.5\n",
    "        return area\n",
    "    \n",
    "print(subclass(10,20,15).area())\n",
    "    "
   ]
  },
  {
   "cell_type": "markdown",
   "metadata": {},
   "source": [
    "1.2\n",
    "Write a function filter_long_words() that takes a list of words and an integer n and returns the list of words that are longer than n. "
   ]
  },
  {
   "cell_type": "code",
   "execution_count": 20,
   "metadata": {},
   "outputs": [
    {
     "name": "stdout",
     "output_type": "stream",
     "text": [
      "['India', 'China', 'Germany', 'Japan']\n",
      "['India', 'China', 'Germany', 'Japan']\n"
     ]
    }
   ],
   "source": [
    "words = ['India', 'UK', 'China', 'USA', 'Germany', 'Japan']\n",
    "n = 3\n",
    "\n",
    "def filter_long_words(wordlist, n):\n",
    "    result = []\n",
    "    for i in wordlist:\n",
    "        if len(i)>n:\n",
    "            result.append(i)\n",
    "    return result\n",
    "\n",
    "\n",
    "#Without using filter function\n",
    "print(filter_long_words(words,n))\n",
    "\n",
    "#Using filter function\n",
    "print(list(filter(lambda x: len(x)>3, words)))\n"
   ]
  },
  {
   "cell_type": "markdown",
   "metadata": {},
   "source": [
    "2.1\n",
    "Write a Python program using function concept that maps  list of words into a list of integers representing the lengths of the corresponding words​. \n",
    " Hint: ​If a list [ ab,cde,erty] is passed on to the python function output should come as [2,3,4] \n",
    " Here 2,3 and 4 are the lengths of the words in the list. "
   ]
  },
  {
   "cell_type": "code",
   "execution_count": 21,
   "metadata": {},
   "outputs": [
    {
     "name": "stdout",
     "output_type": "stream",
     "text": [
      "[5, 2, 5, 3, 7, 5]\n"
     ]
    }
   ],
   "source": [
    "words = ['India', 'UK', 'China', 'USA', 'Germany', 'Japan']\n",
    "print(list(map(lambda x: len(x), words)))"
   ]
  },
  {
   "cell_type": "markdown",
   "metadata": {},
   "source": [
    "2.2\n",
    "Write a Python function which takes a character (i.e. a string of length 1) and returns True if it is a vowel, False otherwise. "
   ]
  },
  {
   "cell_type": "code",
   "execution_count": 29,
   "metadata": {},
   "outputs": [
    {
     "name": "stdout",
     "output_type": "stream",
     "text": [
      "Enter a single char :E\n",
      "True\n"
     ]
    }
   ],
   "source": [
    "def checkVowel(char):\n",
    "    if char in 'aeiou' or char in 'AEIOU':\n",
    "        return True\n",
    "    else:\n",
    "        return False\n",
    "    \n",
    "print(checkVowel(input('Enter a single char :')))"
   ]
  },
  {
   "cell_type": "code",
   "execution_count": null,
   "metadata": {
    "collapsed": true
   },
   "outputs": [],
   "source": []
  }
 ],
 "metadata": {
  "kernelspec": {
   "display_name": "Python 3",
   "language": "python",
   "name": "python3"
  },
  "language_info": {
   "codemirror_mode": {
    "name": "ipython",
    "version": 3
   },
   "file_extension": ".py",
   "mimetype": "text/x-python",
   "name": "python",
   "nbconvert_exporter": "python",
   "pygments_lexer": "ipython3",
   "version": "3.6.3"
  }
 },
 "nbformat": 4,
 "nbformat_minor": 2
}
