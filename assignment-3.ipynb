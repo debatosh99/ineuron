{
 "cells": [
  {
   "cell_type": "markdown",
   "metadata": {},
   "source": [
    "Task 1"
   ]
  },
  {
   "cell_type": "markdown",
   "metadata": {},
   "source": [
    "1.\n",
    "Write a function to compute 5/0 and use try/except to catch the exceptions."
   ]
  },
  {
   "cell_type": "code",
   "execution_count": 12,
   "metadata": {},
   "outputs": [
    {
     "name": "stdout",
     "output_type": "stream",
     "text": [
      "Division by Zero Error\n",
      "Division operation completed\n"
     ]
    }
   ],
   "source": [
    "def divide(num,den):\n",
    "    try:\n",
    "        result = num/den\n",
    "        print('result :{}'.format(result))\n",
    "    except ZeroDivisionError:\n",
    "        print('Division by Zero Error')\n",
    "    except Exception as e:\n",
    "        print('Other exception :{}'.format(str(e)))\n",
    "    finally:\n",
    "        print('Division operation completed')\n",
    "\n",
    "divide(5,0)"
   ]
  },
  {
   "cell_type": "markdown",
   "metadata": {},
   "source": [
    "2.\n",
    "Implement a Python program to generate all sentences where subject is in [\"Americans\",\n",
    "\"Indians\"] and verb is in [\"Play\", \"watch\"] and the object is in [\"Baseball\",\"cricket\"].\n",
    "Hint: Subject,Verb and Object should be declared in the program as shown below.\n",
    "subjects=[\"Americans \",\"Indians\"]\n",
    "verbs=[\"play\",\"watch\"]\n",
    "objects=[\"Baseball\",\"Cricket\"]\n",
    "Output should come as below:\n",
    "Americans play Baseball.\n",
    "Americans play Cricket.\n",
    "Americans watch Baseball.\n",
    "Americans watch Cricket.\n",
    "Indians play Baseball.\n",
    "Indians play Cricket.\n",
    "Indians watch Baseball.\n",
    "Indians watch Cricket."
   ]
  },
  {
   "cell_type": "code",
   "execution_count": 14,
   "metadata": {},
   "outputs": [
    {
     "name": "stdout",
     "output_type": "stream",
     "text": [
      "Americans  play Baseball\n",
      "Americans  play Cricket\n",
      "Americans  watch Baseball\n",
      "Americans  watch Cricket\n",
      "Indians play Baseball\n",
      "Indians play Cricket\n",
      "Indians watch Baseball\n",
      "Indians watch Cricket\n"
     ]
    }
   ],
   "source": [
    "subjects=[\"Americans \",\"Indians\"]\n",
    "verbs=[\"play\",\"watch\"]\n",
    "objects=[\"Baseball\",\"Cricket\"]\n",
    "\n",
    "for sentence in [s+' '+v+' '+o for s in subjects for v in verbs for o in objects]:\n",
    "    print(sentence)"
   ]
  },
  {
   "cell_type": "markdown",
   "metadata": {},
   "source": [
    "Task 2:"
   ]
  },
  {
   "cell_type": "markdown",
   "metadata": {},
   "source": [
    "1.\n",
    "Write a function so that the columns of the output matrix are powers of the input vector.\n",
    "The order of the powers is determined by the increasing boolean argument. Specifically, when\n",
    "increasing is False, the i-th output column is the input vector raised element-wise to the power\n",
    "of N - i - 1.\n",
    "HINT: Such a matrix with a geometric progression in each row is named for Alexandre-\n",
    "Theophile Vandermonde."
   ]
  },
  {
   "cell_type": "code",
   "execution_count": 15,
   "metadata": {},
   "outputs": [
    {
     "name": "stdout",
     "output_type": "stream",
     "text": [
      "Enter the comma separated elements of vector2,4,5,7\n",
      "Enter the desired order :4\n",
      "[[1, 2, 4, 8, 16], [1, 4, 16, 64, 256], [1, 5, 25, 125, 625], [1, 7, 49, 343, 2401]]\n"
     ]
    }
   ],
   "source": [
    "def generateMatrix(vector, order):\n",
    "    cols = order+1\n",
    "    resMat = []\n",
    "    for j in vector:\n",
    "        resMat.append([ int(j)**i for i in range(0,cols)])\n",
    "    return resMat\n",
    "\n",
    "\n",
    "vector = [i for i in input('Enter the comma separated elements of a vector :').split(',')]\n",
    "order = int(input('Enter the desired order :'))\n",
    "print(generateMatrix(vector, order))\n",
    "        \n",
    "#Generates the following o/p for the below i/p\n",
    "#Enter the comma separated elements of a vector : 2,4,5,7\n",
    "#Enter the desired order :4\n",
    "#[[1, 2, 4, 8, 16], [1, 4, 16, 64, 256], [1, 5, 25, 125, 625], [1, 7, 49, 343, 2401]]"
   ]
  },
  {
   "cell_type": "code",
   "execution_count": null,
   "metadata": {
    "collapsed": true
   },
   "outputs": [],
   "source": []
  }
 ],
 "metadata": {
  "kernelspec": {
   "display_name": "Python 3",
   "language": "python",
   "name": "python3"
  },
  "language_info": {
   "codemirror_mode": {
    "name": "ipython",
    "version": 3
   },
   "file_extension": ".py",
   "mimetype": "text/x-python",
   "name": "python",
   "nbconvert_exporter": "python",
   "pygments_lexer": "ipython3",
   "version": "3.6.3"
  }
 },
 "nbformat": 4,
 "nbformat_minor": 2
}
